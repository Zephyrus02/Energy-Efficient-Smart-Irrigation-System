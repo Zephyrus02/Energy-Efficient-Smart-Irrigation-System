{
 "cells": [
  {
   "cell_type": "code",
   "execution_count": 15,
   "id": "0c5e06c7-94f5-437a-b185-f134458446d2",
   "metadata": {},
   "outputs": [],
   "source": [
    "import joblib\n",
    "import pandas as pd"
   ]
  },
  {
   "cell_type": "code",
   "execution_count": 16,
   "id": "982cd38a-b5fe-4c5c-aee0-0f5551da2dce",
   "metadata": {},
   "outputs": [],
   "source": [
    "dtree = joblib.load('decision_tree.joblib')"
   ]
  },
  {
   "cell_type": "code",
   "execution_count": 17,
   "id": "a11813e6-9270-4ccd-afd2-9ebb3cf4ab94",
   "metadata": {},
   "outputs": [],
   "source": [
    "data = {\n",
    "    'CropDays': [29.0],\n",
    "    'SoilMoisture': [186.0],\n",
    "    'temperature': [18.0],\n",
    "    'Humidity': [79.0],\n",
    "    'CropType': [7.0]\n",
    "}\n",
    "\n",
    "df = pd.DataFrame(data)"
   ]
  },
  {
   "cell_type": "code",
   "execution_count": 18,
   "id": "ff7b0fce-2b9d-48d3-ac1f-e56abd99dfb6",
   "metadata": {},
   "outputs": [],
   "source": [
    "y_pred = dtree.predict(df)"
   ]
  },
  {
   "cell_type": "code",
   "execution_count": 19,
   "id": "6ec80262-d326-4a14-83de-efaa249a9bb6",
   "metadata": {},
   "outputs": [
    {
     "name": "stdout",
     "output_type": "stream",
     "text": [
      "[0]\n"
     ]
    }
   ],
   "source": [
    "print(y_pred)"
   ]
  },
  {
   "cell_type": "code",
   "execution_count": null,
   "id": "5929ebc0-6772-4665-b786-1a480c58f5cb",
   "metadata": {},
   "outputs": [],
   "source": []
  }
 ],
 "metadata": {
  "kernelspec": {
   "display_name": "Python 3 (ipykernel)",
   "language": "python",
   "name": "python3"
  },
  "language_info": {
   "codemirror_mode": {
    "name": "ipython",
    "version": 3
   },
   "file_extension": ".py",
   "mimetype": "text/x-python",
   "name": "python",
   "nbconvert_exporter": "python",
   "pygments_lexer": "ipython3",
   "version": "3.10.3"
  }
 },
 "nbformat": 4,
 "nbformat_minor": 5
}
